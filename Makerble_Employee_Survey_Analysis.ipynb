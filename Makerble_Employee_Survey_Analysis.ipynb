{
  "nbformat": 4,
  "nbformat_minor": 0,
  "metadata": {
    "colab": {
      "provenance": [],
      "authorship_tag": "ABX9TyOsRaQ5P9sdNilZHiLaHweh",
      "include_colab_link": true
    },
    "kernelspec": {
      "name": "python3",
      "display_name": "Python 3"
    },
    "language_info": {
      "name": "python"
    }
  },
  "cells": [
    {
      "cell_type": "markdown",
      "metadata": {
        "id": "view-in-github",
        "colab_type": "text"
      },
      "source": [
        "<a href=\"https://colab.research.google.com/github/Vipul251/MLProject/blob/main/Makerble_Employee_Survey_Analysis.ipynb\" target=\"_parent\"><img src=\"https://colab.research.google.com/assets/colab-badge.svg\" alt=\"Open In Colab\"/></a>"
      ]
    },
    {
      "cell_type": "code",
      "execution_count": null,
      "metadata": {
        "id": "JbHqgN-L6wRr"
      },
      "outputs": [],
      "source": [
        "import pandas as pd\n",
        "import numpy as np\n",
        "import matplotlib.pyplot as plt\n",
        "import seaborn as sns\n",
        "from scipy import stats\n"
      ]
    },
    {
      "cell_type": "code",
      "source": [
        "from google.colab import files\n",
        "uploaded = files.upload()\n",
        "\n",
        "# Assuming the file is in CSV format\n",
        "df = pd.read_csv('/content/employee_experience_survey_data.csv')\n"
      ],
      "metadata": {
        "colab": {
          "base_uri": "https://localhost:8080/",
          "height": 73
        },
        "id": "1qrk5Sby7I5C",
        "outputId": "e656959b-bc44-4822-e848-94084ddfacd6"
      },
      "execution_count": null,
      "outputs": [
        {
          "output_type": "display_data",
          "data": {
            "text/plain": [
              "<IPython.core.display.HTML object>"
            ],
            "text/html": [
              "\n",
              "     <input type=\"file\" id=\"files-e71784b8-cd67-4b58-a9d0-cd9d79deeaeb\" name=\"files[]\" multiple disabled\n",
              "        style=\"border:none\" />\n",
              "     <output id=\"result-e71784b8-cd67-4b58-a9d0-cd9d79deeaeb\">\n",
              "      Upload widget is only available when the cell has been executed in the\n",
              "      current browser session. Please rerun this cell to enable.\n",
              "      </output>\n",
              "      <script>// Copyright 2017 Google LLC\n",
              "//\n",
              "// Licensed under the Apache License, Version 2.0 (the \"License\");\n",
              "// you may not use this file except in compliance with the License.\n",
              "// You may obtain a copy of the License at\n",
              "//\n",
              "//      http://www.apache.org/licenses/LICENSE-2.0\n",
              "//\n",
              "// Unless required by applicable law or agreed to in writing, software\n",
              "// distributed under the License is distributed on an \"AS IS\" BASIS,\n",
              "// WITHOUT WARRANTIES OR CONDITIONS OF ANY KIND, either express or implied.\n",
              "// See the License for the specific language governing permissions and\n",
              "// limitations under the License.\n",
              "\n",
              "/**\n",
              " * @fileoverview Helpers for google.colab Python module.\n",
              " */\n",
              "(function(scope) {\n",
              "function span(text, styleAttributes = {}) {\n",
              "  const element = document.createElement('span');\n",
              "  element.textContent = text;\n",
              "  for (const key of Object.keys(styleAttributes)) {\n",
              "    element.style[key] = styleAttributes[key];\n",
              "  }\n",
              "  return element;\n",
              "}\n",
              "\n",
              "// Max number of bytes which will be uploaded at a time.\n",
              "const MAX_PAYLOAD_SIZE = 100 * 1024;\n",
              "\n",
              "function _uploadFiles(inputId, outputId) {\n",
              "  const steps = uploadFilesStep(inputId, outputId);\n",
              "  const outputElement = document.getElementById(outputId);\n",
              "  // Cache steps on the outputElement to make it available for the next call\n",
              "  // to uploadFilesContinue from Python.\n",
              "  outputElement.steps = steps;\n",
              "\n",
              "  return _uploadFilesContinue(outputId);\n",
              "}\n",
              "\n",
              "// This is roughly an async generator (not supported in the browser yet),\n",
              "// where there are multiple asynchronous steps and the Python side is going\n",
              "// to poll for completion of each step.\n",
              "// This uses a Promise to block the python side on completion of each step,\n",
              "// then passes the result of the previous step as the input to the next step.\n",
              "function _uploadFilesContinue(outputId) {\n",
              "  const outputElement = document.getElementById(outputId);\n",
              "  const steps = outputElement.steps;\n",
              "\n",
              "  const next = steps.next(outputElement.lastPromiseValue);\n",
              "  return Promise.resolve(next.value.promise).then((value) => {\n",
              "    // Cache the last promise value to make it available to the next\n",
              "    // step of the generator.\n",
              "    outputElement.lastPromiseValue = value;\n",
              "    return next.value.response;\n",
              "  });\n",
              "}\n",
              "\n",
              "/**\n",
              " * Generator function which is called between each async step of the upload\n",
              " * process.\n",
              " * @param {string} inputId Element ID of the input file picker element.\n",
              " * @param {string} outputId Element ID of the output display.\n",
              " * @return {!Iterable<!Object>} Iterable of next steps.\n",
              " */\n",
              "function* uploadFilesStep(inputId, outputId) {\n",
              "  const inputElement = document.getElementById(inputId);\n",
              "  inputElement.disabled = false;\n",
              "\n",
              "  const outputElement = document.getElementById(outputId);\n",
              "  outputElement.innerHTML = '';\n",
              "\n",
              "  const pickedPromise = new Promise((resolve) => {\n",
              "    inputElement.addEventListener('change', (e) => {\n",
              "      resolve(e.target.files);\n",
              "    });\n",
              "  });\n",
              "\n",
              "  const cancel = document.createElement('button');\n",
              "  inputElement.parentElement.appendChild(cancel);\n",
              "  cancel.textContent = 'Cancel upload';\n",
              "  const cancelPromise = new Promise((resolve) => {\n",
              "    cancel.onclick = () => {\n",
              "      resolve(null);\n",
              "    };\n",
              "  });\n",
              "\n",
              "  // Wait for the user to pick the files.\n",
              "  const files = yield {\n",
              "    promise: Promise.race([pickedPromise, cancelPromise]),\n",
              "    response: {\n",
              "      action: 'starting',\n",
              "    }\n",
              "  };\n",
              "\n",
              "  cancel.remove();\n",
              "\n",
              "  // Disable the input element since further picks are not allowed.\n",
              "  inputElement.disabled = true;\n",
              "\n",
              "  if (!files) {\n",
              "    return {\n",
              "      response: {\n",
              "        action: 'complete',\n",
              "      }\n",
              "    };\n",
              "  }\n",
              "\n",
              "  for (const file of files) {\n",
              "    const li = document.createElement('li');\n",
              "    li.append(span(file.name, {fontWeight: 'bold'}));\n",
              "    li.append(span(\n",
              "        `(${file.type || 'n/a'}) - ${file.size} bytes, ` +\n",
              "        `last modified: ${\n",
              "            file.lastModifiedDate ? file.lastModifiedDate.toLocaleDateString() :\n",
              "                                    'n/a'} - `));\n",
              "    const percent = span('0% done');\n",
              "    li.appendChild(percent);\n",
              "\n",
              "    outputElement.appendChild(li);\n",
              "\n",
              "    const fileDataPromise = new Promise((resolve) => {\n",
              "      const reader = new FileReader();\n",
              "      reader.onload = (e) => {\n",
              "        resolve(e.target.result);\n",
              "      };\n",
              "      reader.readAsArrayBuffer(file);\n",
              "    });\n",
              "    // Wait for the data to be ready.\n",
              "    let fileData = yield {\n",
              "      promise: fileDataPromise,\n",
              "      response: {\n",
              "        action: 'continue',\n",
              "      }\n",
              "    };\n",
              "\n",
              "    // Use a chunked sending to avoid message size limits. See b/62115660.\n",
              "    let position = 0;\n",
              "    do {\n",
              "      const length = Math.min(fileData.byteLength - position, MAX_PAYLOAD_SIZE);\n",
              "      const chunk = new Uint8Array(fileData, position, length);\n",
              "      position += length;\n",
              "\n",
              "      const base64 = btoa(String.fromCharCode.apply(null, chunk));\n",
              "      yield {\n",
              "        response: {\n",
              "          action: 'append',\n",
              "          file: file.name,\n",
              "          data: base64,\n",
              "        },\n",
              "      };\n",
              "\n",
              "      let percentDone = fileData.byteLength === 0 ?\n",
              "          100 :\n",
              "          Math.round((position / fileData.byteLength) * 100);\n",
              "      percent.textContent = `${percentDone}% done`;\n",
              "\n",
              "    } while (position < fileData.byteLength);\n",
              "  }\n",
              "\n",
              "  // All done.\n",
              "  yield {\n",
              "    response: {\n",
              "      action: 'complete',\n",
              "    }\n",
              "  };\n",
              "}\n",
              "\n",
              "scope.google = scope.google || {};\n",
              "scope.google.colab = scope.google.colab || {};\n",
              "scope.google.colab._files = {\n",
              "  _uploadFiles,\n",
              "  _uploadFilesContinue,\n",
              "};\n",
              "})(self);\n",
              "</script> "
            ]
          },
          "metadata": {}
        },
        {
          "output_type": "stream",
          "name": "stdout",
          "text": [
            "Saving employee_experience_survey_data.csv to employee_experience_survey_data (2).csv\n"
          ]
        }
      ]
    },
    {
      "cell_type": "code",
      "source": [
        "# Check for missing values\n",
        "print(df.isnull().sum())\n",
        "\n",
        "\n"
      ],
      "metadata": {
        "colab": {
          "base_uri": "https://localhost:8080/"
        },
        "id": "svBn_RgXCjT6",
        "outputId": "0aef3ff3-8fed-45c0-9a7b-e11616b83969"
      },
      "execution_count": null,
      "outputs": [
        {
          "output_type": "stream",
          "name": "stdout",
          "text": [
            "Name                                0\n",
            "Age Bracket                         0\n",
            "Gender                              0\n",
            "Ethnicity                           0\n",
            "Job Title                           0\n",
            "Department                          0\n",
            "Date Survey Completed               0\n",
            "Job Satisfaction                    0\n",
            "Work-Life Balance                   0\n",
            "Management Support                  0\n",
            "Team Collaboration                  0\n",
            "Workload Fairness                   0\n",
            "Career Development Opportunities    0\n",
            "Workplace Inclusivity               0\n",
            "Company Communication               0\n",
            "Compensation Satisfaction           0\n",
            "Job Security                        0\n",
            "Overall Engagement                  0\n",
            "dtype: int64\n"
          ]
        }
      ]
    },
    {
      "cell_type": "code",
      "source": [
        "# Check for missing values\n",
        "print(df.isnull().sum())\n",
        "\n",
        "# Fill or drop missing values as necessary\n",
        "df.dropna(inplace=True)  # Drop rows with missing values, or use fillna() if you prefer.\n"
      ],
      "metadata": {
        "colab": {
          "base_uri": "https://localhost:8080/"
        },
        "id": "UEaVnL-ACnys",
        "outputId": "aa6d5199-628f-4969-e5fb-d9b0e2c4bf6f"
      },
      "execution_count": null,
      "outputs": [
        {
          "output_type": "stream",
          "name": "stdout",
          "text": [
            "Name                                0\n",
            "Age Bracket                         0\n",
            "Gender                              0\n",
            "Ethnicity                           0\n",
            "Job Title                           0\n",
            "Department                          0\n",
            "Date Survey Completed               0\n",
            "Job Satisfaction                    0\n",
            "Work-Life Balance                   0\n",
            "Management Support                  0\n",
            "Team Collaboration                  0\n",
            "Workload Fairness                   0\n",
            "Career Development Opportunities    0\n",
            "Workplace Inclusivity               0\n",
            "Company Communication               0\n",
            "Compensation Satisfaction           0\n",
            "Job Security                        0\n",
            "Overall Engagement                  0\n",
            "dtype: int64\n"
          ]
        }
      ]
    },
    {
      "cell_type": "code",
      "source": [
        "print(df[['Overall Engagement', 'Job Satisfaction']].isnull().sum())\n",
        "df.dropna(subset=['Overall Engagement', 'Job Satisfaction'], inplace=True)\n",
        "df['Overall Engagement'].fillna(df['Overall Engagement'].median(), inplace=True)\n",
        "df['Job Satisfaction'].fillna(df['Job Satisfaction'].median(), inplace=True)\n"
      ],
      "metadata": {
        "colab": {
          "base_uri": "https://localhost:8080/"
        },
        "id": "Nbnr4q_mGBlO",
        "outputId": "28599f1e-61a0-42a9-dab6-2309c38b0656"
      },
      "execution_count": null,
      "outputs": [
        {
          "output_type": "stream",
          "name": "stdout",
          "text": [
            "Overall Engagement    0\n",
            "Job Satisfaction      0\n",
            "dtype: int64\n"
          ]
        },
        {
          "output_type": "stream",
          "name": "stderr",
          "text": [
            "<ipython-input-73-576b485c26d7>:3: FutureWarning: A value is trying to be set on a copy of a DataFrame or Series through chained assignment using an inplace method.\n",
            "The behavior will change in pandas 3.0. This inplace method will never work because the intermediate object on which we are setting values always behaves as a copy.\n",
            "\n",
            "For example, when doing 'df[col].method(value, inplace=True)', try using 'df.method({col: value}, inplace=True)' or df[col] = df[col].method(value) instead, to perform the operation inplace on the original object.\n",
            "\n",
            "\n",
            "  df['Overall Engagement'].fillna(df['Overall Engagement'].median(), inplace=True)\n",
            "<ipython-input-73-576b485c26d7>:4: FutureWarning: A value is trying to be set on a copy of a DataFrame or Series through chained assignment using an inplace method.\n",
            "The behavior will change in pandas 3.0. This inplace method will never work because the intermediate object on which we are setting values always behaves as a copy.\n",
            "\n",
            "For example, when doing 'df[col].method(value, inplace=True)', try using 'df.method({col: value}, inplace=True)' or df[col] = df[col].method(value) instead, to perform the operation inplace on the original object.\n",
            "\n",
            "\n",
            "  df['Job Satisfaction'].fillna(df['Job Satisfaction'].median(), inplace=True)\n"
          ]
        }
      ]
    },
    {
      "cell_type": "code",
      "source": [
        "likert_mapping = {\n",
        "    'Strongly Disagree': 1,\n",
        "    'Disagree': 2,\n",
        "    'Neutral': 3,\n",
        "    'Agree': 4,\n",
        "    'Strongly Agree': 5\n",
        "}\n",
        "for column in ['Job Satisfaction', 'Work-Life Balance', 'Management Support', 'Team Collaboration',\n",
        "               'Workload Fairness', 'Career Development Opportunities', 'Workplace Inclusivity',\n",
        "               'Company Communication', 'Compensation Satisfaction', 'Job Security', 'Overall Engagement']:\n",
        "    df[column] = df[column].map(likert_mapping)\n"
      ],
      "metadata": {
        "id": "BdrdLGolC6ee"
      },
      "execution_count": null,
      "outputs": []
    },
    {
      "cell_type": "code",
      "source": [
        "print(df['Overall Engagement'].unique())\n",
        "print(df['Job Satisfaction'].unique())\n"
      ],
      "metadata": {
        "id": "dx7DHa_kGOk2",
        "outputId": "cb0b7457-8feb-43b2-b01b-11457bfc4398",
        "colab": {
          "base_uri": "https://localhost:8080/"
        }
      },
      "execution_count": null,
      "outputs": [
        {
          "output_type": "stream",
          "name": "stdout",
          "text": [
            "[]\n",
            "[]\n"
          ]
        }
      ]
    },
    {
      "cell_type": "code",
      "source": [
        "overall_engagement_mean = df['Overall Engagement'].mean()\n",
        "job_satisfaction_median = df['Job Satisfaction'].median()\n",
        "job_satisfaction_mode = df['Job Satisfaction'].mode()\n",
        "overall_engagement_std = df['Overall Engagement'].std()\n",
        "\n",
        "print(f\"Mean Overall Engagement: {overall_engagement_mean}\")\n",
        "print(f\"Median Job Satisfaction: {job_satisfaction_median}\")\n",
        "print(f\"Mode of Job Satisfaction: {job_satisfaction_mode[0] if not job_satisfaction_mode.empty else 'No mode'}\")\n",
        "print(f\"Standard Deviation of Overall Engagement: {overall_engagement_std}\")\n",
        "\n"
      ],
      "metadata": {
        "colab": {
          "base_uri": "https://localhost:8080/"
        },
        "id": "DY5NB6hKC5Zu",
        "outputId": "db5225d7-7fd1-4ed3-bda4-7535dac78f1a"
      },
      "execution_count": null,
      "outputs": [
        {
          "output_type": "stream",
          "name": "stdout",
          "text": [
            "Mean Overall Engagement: nan\n",
            "Median Job Satisfaction: nan\n",
            "Mode of Job Satisfaction: No mode\n",
            "Standard Deviation of Overall Engagement: nan\n"
          ]
        }
      ]
    },
    {
      "cell_type": "code",
      "source": [
        "# Example: Average Job Satisfaction by Department\n",
        "avg_job_satisfaction_by_dept = df.groupby('Department')['Job Satisfaction'].mean()\n",
        "print(avg_job_satisfaction_by_dept)\n"
      ],
      "metadata": {
        "colab": {
          "base_uri": "https://localhost:8080/"
        },
        "id": "6p3viWxV8y-p",
        "outputId": "31900f75-9006-4d52-dbb9-1290264fca7d"
      },
      "execution_count": null,
      "outputs": [
        {
          "output_type": "stream",
          "name": "stdout",
          "text": [
            "Series([], Name: Job Satisfaction, dtype: float64)\n"
          ]
        }
      ]
    },
    {
      "cell_type": "code",
      "source": [
        "# Example: Job Satisfaction by Gender\n",
        "job_satisfaction_by_gender = df.groupby('Gender')['Job Satisfaction'].mean()\n",
        "print(job_satisfaction_by_gender)\n"
      ],
      "metadata": {
        "colab": {
          "base_uri": "https://localhost:8080/"
        },
        "id": "bZRzrjq9DXHu",
        "outputId": "7fcc7f69-ea4b-4cc1-89ea-a8cfcad9b205"
      },
      "execution_count": null,
      "outputs": [
        {
          "output_type": "stream",
          "name": "stdout",
          "text": [
            "Series([], Name: Job Satisfaction, dtype: float64)\n"
          ]
        }
      ]
    },
    {
      "cell_type": "code",
      "source": [
        "from scipy.stats import ttest_ind\n",
        "\n",
        "it_satisfaction = df[df['Department'] == 'IT']['Job Satisfaction']\n",
        "hr_satisfaction = df[df['Department'] == 'HR']['Job Satisfaction']\n",
        "\n",
        "t_stat, p_value = ttest_ind(it_satisfaction, hr_satisfaction)\n",
        "print(f\"T-statistic: {t_stat}, P-value: {p_value}\")\n",
        "\n"
      ],
      "metadata": {
        "colab": {
          "base_uri": "https://localhost:8080/"
        },
        "id": "cnmCXTgxDaqW",
        "outputId": "ebbf5469-64f7-4e13-cb63-c17eed08abfb"
      },
      "execution_count": null,
      "outputs": [
        {
          "output_type": "stream",
          "name": "stdout",
          "text": [
            "T-statistic: nan, P-value: nan\n"
          ]
        }
      ]
    },
    {
      "cell_type": "code",
      "source": [
        "correlation = df['Work-Life Balance'].corr(df['Overall Engagement'])\n",
        "print(f\"Correlation coefficient: {correlation}\")\n"
      ],
      "metadata": {
        "colab": {
          "base_uri": "https://localhost:8080/"
        },
        "id": "ycDiGD6WDoW4",
        "outputId": "a390f212-f0d6-446a-9430-d54124b25c70"
      },
      "execution_count": null,
      "outputs": [
        {
          "output_type": "stream",
          "name": "stdout",
          "text": [
            "Correlation coefficient: -0.361040820409166\n"
          ]
        }
      ]
    },
    {
      "cell_type": "code",
      "source": [
        "df.groupby('Department')['Job Satisfaction'].mean()\n"
      ],
      "metadata": {
        "colab": {
          "base_uri": "https://localhost:8080/",
          "height": 115
        },
        "id": "9KXRnA6-89Bv",
        "outputId": "a9543341-a494-42cd-b908-5913b488e1e9"
      },
      "execution_count": null,
      "outputs": [
        {
          "output_type": "execute_result",
          "data": {
            "text/plain": [
              "Series([], Name: Job Satisfaction, dtype: float64)"
            ],
            "text/html": [
              "<div>\n",
              "<style scoped>\n",
              "    .dataframe tbody tr th:only-of-type {\n",
              "        vertical-align: middle;\n",
              "    }\n",
              "\n",
              "    .dataframe tbody tr th {\n",
              "        vertical-align: top;\n",
              "    }\n",
              "\n",
              "    .dataframe thead th {\n",
              "        text-align: right;\n",
              "    }\n",
              "</style>\n",
              "<table border=\"1\" class=\"dataframe\">\n",
              "  <thead>\n",
              "    <tr style=\"text-align: right;\">\n",
              "      <th></th>\n",
              "      <th>Job Satisfaction</th>\n",
              "    </tr>\n",
              "    <tr>\n",
              "      <th>Department</th>\n",
              "      <th></th>\n",
              "    </tr>\n",
              "  </thead>\n",
              "  <tbody>\n",
              "  </tbody>\n",
              "</table>\n",
              "</div><br><label><b>dtype:</b> float64</label>"
            ]
          },
          "metadata": {},
          "execution_count": 78
        }
      ]
    },
    {
      "cell_type": "code",
      "source": [
        "print(df['Work-Life Balance'].unique())\n",
        "print(df['Overall Engagement'].unique())\n"
      ],
      "metadata": {
        "colab": {
          "base_uri": "https://localhost:8080/"
        },
        "id": "ix-DFqVk-5GS",
        "outputId": "30ad5ffc-a1a0-4c33-9bb6-151981ee0990"
      },
      "execution_count": null,
      "outputs": [
        {
          "output_type": "stream",
          "name": "stdout",
          "text": [
            "['Strongly Agree' 'Strongly Disagree' 'Agree' 'Neutral' 'Disagree']\n",
            "[5 3 2 4 1]\n"
          ]
        }
      ]
    },
    {
      "cell_type": "code",
      "source": [
        "df['Work-Life Balance'].fillna(df['Work-Life Balance'].median(), inplace=True)\n",
        "df['Overall Engagement'].fillna(df['Overall Engagement'].median(), inplace=True)\n"
      ],
      "metadata": {
        "colab": {
          "base_uri": "https://localhost:8080/"
        },
        "id": "EQRFaQoTAmEN",
        "outputId": "309691cb-ac5d-4815-9ad3-34539d323c11"
      },
      "execution_count": null,
      "outputs": [
        {
          "output_type": "stream",
          "name": "stderr",
          "text": [
            "<ipython-input-51-ff9a7f53be4f>:1: FutureWarning: A value is trying to be set on a copy of a DataFrame or Series through chained assignment using an inplace method.\n",
            "The behavior will change in pandas 3.0. This inplace method will never work because the intermediate object on which we are setting values always behaves as a copy.\n",
            "\n",
            "For example, when doing 'df[col].method(value, inplace=True)', try using 'df.method({col: value}, inplace=True)' or df[col] = df[col].method(value) instead, to perform the operation inplace on the original object.\n",
            "\n",
            "\n",
            "  df['Work-Life Balance'].fillna(df['Work-Life Balance'].median(), inplace=True)\n",
            "<ipython-input-51-ff9a7f53be4f>:2: FutureWarning: A value is trying to be set on a copy of a DataFrame or Series through chained assignment using an inplace method.\n",
            "The behavior will change in pandas 3.0. This inplace method will never work because the intermediate object on which we are setting values always behaves as a copy.\n",
            "\n",
            "For example, when doing 'df[col].method(value, inplace=True)', try using 'df.method({col: value}, inplace=True)' or df[col] = df[col].method(value) instead, to perform the operation inplace on the original object.\n",
            "\n",
            "\n",
            "  df['Overall Engagement'].fillna(df['Overall Engagement'].median(), inplace=True)\n"
          ]
        }
      ]
    },
    {
      "cell_type": "code",
      "source": [
        "df['Work-Life Balance'] = df['Work-Life Balance'].map(likert_mapping)\n",
        "df['Overall Engagement'] = df['Overall Engagement'].map(likert_mapping)\n"
      ],
      "metadata": {
        "id": "SNaiaMXO_eXV"
      },
      "execution_count": null,
      "outputs": []
    },
    {
      "cell_type": "code",
      "source": [
        "df.dropna(subset=['Work-Life Balance', 'Overall Engagement'], inplace=True)\n"
      ],
      "metadata": {
        "id": "g9fHnxLeA29M"
      },
      "execution_count": null,
      "outputs": []
    },
    {
      "cell_type": "code",
      "source": [
        "df['Work-Life Balance'] = pd.to_numeric(df['Work-Life Balance'], errors='coerce')\n",
        "df['Overall Engagement'] = pd.to_numeric(df['Overall Engagement'], errors='coerce')\n"
      ],
      "metadata": {
        "id": "asg3bQ-UA7Ca"
      },
      "execution_count": null,
      "outputs": []
    },
    {
      "cell_type": "code",
      "source": [
        "correlation = df['Work-Life Balance'].corr(df['Overall Engagement'])\n",
        "print(f\"Correlation coefficient: {correlation}\")\n",
        "\n"
      ],
      "metadata": {
        "colab": {
          "base_uri": "https://localhost:8080/"
        },
        "id": "_uTgSx2J9I_N",
        "outputId": "0a6e6a48-4d5b-4d67-d9d3-7999fff8beac"
      },
      "execution_count": null,
      "outputs": [
        {
          "output_type": "stream",
          "name": "stdout",
          "text": [
            "Correlation coefficient: nan\n"
          ]
        }
      ]
    },
    {
      "cell_type": "code",
      "source": [
        "# Ensure columns are numeric\n",
        "df['Work-Life Balance'] = pd.to_numeric(df['Work-Life Balance'], errors='coerce')\n",
        "df['Overall Engagement'] = pd.to_numeric(df['Overall Engagement'], errors='coerce')\n",
        "\n",
        "# Drop rows with NaN values in the relevant columns\n",
        "df.dropna(subset=['Work-Life Balance', 'Overall Engagement'], inplace=True)\n",
        "\n",
        "# Check for any remaining NaN values\n",
        "print(df['Work-Life Balance'].isna().sum())\n",
        "print(df['Overall Engagement'].isna().sum())\n",
        "\n",
        "# Calculate correlation\n",
        "correlation = df['Work-Life Balance'].corr(df['Overall Engagement'])\n",
        "print(f\"Correlation coefficient: {correlation}\")\n",
        "\n"
      ],
      "metadata": {
        "colab": {
          "base_uri": "https://localhost:8080/"
        },
        "id": "Wyx_nOXNBELr",
        "outputId": "631f094f-a0b8-4dfc-bba3-881f73cc8d9c"
      },
      "execution_count": null,
      "outputs": [
        {
          "output_type": "stream",
          "name": "stdout",
          "text": [
            "0\n",
            "0\n",
            "Correlation coefficient: nan\n"
          ]
        }
      ]
    },
    {
      "cell_type": "code",
      "source": [
        "# Sample DataFrame for testing\n",
        "sample_data = {\n",
        "    'Work-Life Balance': [4, 5, 3, 2, 1, 4, 5],\n",
        "    'Overall Engagement': [4, 5, 3, 2, 1, 5, 4]\n",
        "}\n",
        "sample_df = pd.DataFrame(sample_data)\n",
        "\n",
        "# Calculate correlation on the sample\n",
        "correlation = sample_df['Work-Life Balance'].corr(sample_df['Overall Engagement'])\n",
        "print(f\"Sample Correlation coefficient: {correlation}\")\n"
      ],
      "metadata": {
        "colab": {
          "base_uri": "https://localhost:8080/"
        },
        "id": "O2GdR0Jv_pja",
        "outputId": "dba1b2c0-d00b-447a-cc3f-fda3aee8576a"
      },
      "execution_count": null,
      "outputs": [
        {
          "output_type": "stream",
          "name": "stdout",
          "text": [
            "Sample Correlation coefficient: 0.9270833333333333\n"
          ]
        }
      ]
    },
    {
      "cell_type": "code",
      "source": [
        "print(\"Unique values in Work-Life Balance:\")\n",
        "print(df['Work-Life Balance'].unique())\n",
        "\n",
        "print(\"Unique values in Overall Engagement:\")\n",
        "print(df['Overall Engagement'].unique())\n"
      ],
      "metadata": {
        "colab": {
          "base_uri": "https://localhost:8080/"
        },
        "id": "Z4xkWGR2BsL7",
        "outputId": "bc170ccc-d617-4f1d-f804-ffdf142eee7e"
      },
      "execution_count": null,
      "outputs": [
        {
          "output_type": "stream",
          "name": "stdout",
          "text": [
            "Unique values in Work-Life Balance:\n",
            "[]\n",
            "Unique values in Overall Engagement:\n",
            "[]\n"
          ]
        }
      ]
    },
    {
      "cell_type": "code",
      "source": [
        "import seaborn as sns\n",
        "import matplotlib.pyplot as plt\n",
        "\n",
        "# Example: Bar chart for average Job Satisfaction by Department\n",
        "plt.figure(figsize=(10, 6))\n",
        "sns.barplot(x='Department', y='Job Satisfaction', data=df)\n",
        "plt.title('Average Job Satisfaction by Department')\n",
        "plt.xticks(rotation=45)\n",
        "plt.show()\n"
      ],
      "metadata": {
        "colab": {
          "base_uri": "https://localhost:8080/",
          "height": 556
        },
        "id": "S1pcLNasEvM2",
        "outputId": "321cc2f5-b9b2-4102-a551-cdedc393eb20"
      },
      "execution_count": null,
      "outputs": [
        {
          "output_type": "display_data",
          "data": {
            "text/plain": [
              "<Figure size 1000x600 with 1 Axes>"
            ],
            "image/png": "[encoded data removed]"
          },
          "metadata": {}
        }
      ]
    }
  ]
}