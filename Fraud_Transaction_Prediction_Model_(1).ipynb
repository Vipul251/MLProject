{
  "cells": [
    {
      "cell_type": "markdown",
      "metadata": {
        "id": "view-in-github",
        "colab_type": "text"
      },
      "source": [
        "<a href=\"https://colab.research.google.com/github/Vipul251/MLProject/blob/main/Fraud_Transaction_Prediction_Model_(1).ipynb\" target=\"_parent\"><img src=\"https://colab.research.google.com/assets/colab-badge.svg\" alt=\"Open In Colab\"/></a>"
      ]
    },
    {
      "cell_type": "code",
      "execution_count": null,
      "id": "e58d19a0",
      "metadata": {
        "id": "e58d19a0"
      },
      "outputs": [],
      "source": [
        "# Basic Libraries\n",
        "import pandas as pd\n",
        "import numpy as np\n",
        "\n",
        "# Machine Learning Libraries\n",
        "from sklearn.model_selection import train_test_split\n",
        "from sklearn.ensemble import RandomForestClassifier\n",
        "from sklearn.metrics import classification_report, accuracy_score, confusion_matrix\n",
        "\n",
        "# Visualization Libraries\n",
        "import matplotlib.pyplot as plt\n",
        "import seaborn as sns\n",
        "\n",
        "# For Data Scaling\n",
        "from sklearn.preprocessing import StandardScaler\n"
      ]
    },
    {
      "cell_type": "code",
      "execution_count": null,
      "id": "576d63ba",
      "metadata": {
        "id": "576d63ba"
      },
      "outputs": [],
      "source": [
        "# Loading the fraud dataset\n",
        "df_fraud = pd.read_csv('Fraud.csv')"
      ]
    },
    {
      "cell_type": "code",
      "execution_count": null,
      "id": "fdc63ed3",
      "metadata": {
        "scrolled": true,
        "id": "fdc63ed3",
        "outputId": "847e6af5-d7b6-47a8-b714-2ac11e6f9597"
      },
      "outputs": [
        {
          "data": {
            "text/html": [
              "<div>\n",
              "<style scoped>\n",
              "    .dataframe tbody tr th:only-of-type {\n",
              "        vertical-align: middle;\n",
              "    }\n",
              "\n",
              "    .dataframe tbody tr th {\n",
              "        vertical-align: top;\n",
              "    }\n",
              "\n",
              "    .dataframe thead th {\n",
              "        text-align: right;\n",
              "    }\n",
              "</style>\n",
              "<table border=\"1\" class=\"dataframe\">\n",
              "  <thead>\n",
              "    <tr style=\"text-align: right;\">\n",
              "      <th></th>\n",
              "      <th>step</th>\n",
              "      <th>type</th>\n",
              "      <th>amount</th>\n",
              "      <th>nameOrig</th>\n",
              "      <th>oldbalanceOrg</th>\n",
              "      <th>newbalanceOrig</th>\n",
              "      <th>nameDest</th>\n",
              "      <th>oldbalanceDest</th>\n",
              "      <th>newbalanceDest</th>\n",
              "      <th>isFraud</th>\n",
              "      <th>isFlaggedFraud</th>\n",
              "    </tr>\n",
              "  </thead>\n",
              "  <tbody>\n",
              "    <tr>\n",
              "      <th>0</th>\n",
              "      <td>1</td>\n",
              "      <td>PAYMENT</td>\n",
              "      <td>9839.64</td>\n",
              "      <td>C1231006815</td>\n",
              "      <td>170136.0</td>\n",
              "      <td>160296.36</td>\n",
              "      <td>M1979787155</td>\n",
              "      <td>0.0</td>\n",
              "      <td>0.0</td>\n",
              "      <td>0</td>\n",
              "      <td>0</td>\n",
              "    </tr>\n",
              "    <tr>\n",
              "      <th>1</th>\n",
              "      <td>1</td>\n",
              "      <td>PAYMENT</td>\n",
              "      <td>1864.28</td>\n",
              "      <td>C1666544295</td>\n",
              "      <td>21249.0</td>\n",
              "      <td>19384.72</td>\n",
              "      <td>M2044282225</td>\n",
              "      <td>0.0</td>\n",
              "      <td>0.0</td>\n",
              "      <td>0</td>\n",
              "      <td>0</td>\n",
              "    </tr>\n",
              "    <tr>\n",
              "      <th>2</th>\n",
              "      <td>1</td>\n",
              "      <td>TRANSFER</td>\n",
              "      <td>181.00</td>\n",
              "      <td>C1305486145</td>\n",
              "      <td>181.0</td>\n",
              "      <td>0.00</td>\n",
              "      <td>C553264065</td>\n",
              "      <td>0.0</td>\n",
              "      <td>0.0</td>\n",
              "      <td>1</td>\n",
              "      <td>0</td>\n",
              "    </tr>\n",
              "    <tr>\n",
              "      <th>3</th>\n",
              "      <td>1</td>\n",
              "      <td>CASH_OUT</td>\n",
              "      <td>181.00</td>\n",
              "      <td>C840083671</td>\n",
              "      <td>181.0</td>\n",
              "      <td>0.00</td>\n",
              "      <td>C38997010</td>\n",
              "      <td>21182.0</td>\n",
              "      <td>0.0</td>\n",
              "      <td>1</td>\n",
              "      <td>0</td>\n",
              "    </tr>\n",
              "    <tr>\n",
              "      <th>4</th>\n",
              "      <td>1</td>\n",
              "      <td>PAYMENT</td>\n",
              "      <td>11668.14</td>\n",
              "      <td>C2048537720</td>\n",
              "      <td>41554.0</td>\n",
              "      <td>29885.86</td>\n",
              "      <td>M1230701703</td>\n",
              "      <td>0.0</td>\n",
              "      <td>0.0</td>\n",
              "      <td>0</td>\n",
              "      <td>0</td>\n",
              "    </tr>\n",
              "  </tbody>\n",
              "</table>\n",
              "</div>"
            ],
            "text/plain": [
              "   step      type    amount     nameOrig  oldbalanceOrg  newbalanceOrig  \\\n",
              "0     1   PAYMENT   9839.64  C1231006815       170136.0       160296.36   \n",
              "1     1   PAYMENT   1864.28  C1666544295        21249.0        19384.72   \n",
              "2     1  TRANSFER    181.00  C1305486145          181.0            0.00   \n",
              "3     1  CASH_OUT    181.00   C840083671          181.0            0.00   \n",
              "4     1   PAYMENT  11668.14  C2048537720        41554.0        29885.86   \n",
              "\n",
              "      nameDest  oldbalanceDest  newbalanceDest  isFraud  isFlaggedFraud  \n",
              "0  M1979787155             0.0             0.0        0               0  \n",
              "1  M2044282225             0.0             0.0        0               0  \n",
              "2   C553264065             0.0             0.0        1               0  \n",
              "3    C38997010         21182.0             0.0        1               0  \n",
              "4  M1230701703             0.0             0.0        0               0  "
            ]
          },
          "execution_count": 3,
          "metadata": {},
          "output_type": "execute_result"
        }
      ],
      "source": [
        "# Display the first few rows of the dataset\n",
        "df_fraud.head()"
      ]
    },
    {
      "cell_type": "code",
      "execution_count": null,
      "id": "9bcbdaea",
      "metadata": {
        "id": "9bcbdaea"
      },
      "outputs": [],
      "source": [
        "with open('Data Dictionary.txt', 'r') as file:\n",
        "    data_dictionary = file.read()\n",
        "\n",
        "# Print the contents of the data dictionary\n",
        "print(data_dictionary)\n"
      ]
    },
    {
      "cell_type": "code",
      "execution_count": null,
      "id": "bc59bc10",
      "metadata": {
        "scrolled": true,
        "id": "bc59bc10"
      },
      "outputs": [],
      "source": [
        "# Get basic info about the dataset\n",
        "df_fraud.info()"
      ]
    },
    {
      "cell_type": "code",
      "execution_count": null,
      "id": "833ed467",
      "metadata": {
        "id": "833ed467"
      },
      "outputs": [],
      "source": [
        "# Check for missing values\n",
        "df_fraud.isnull().sum()"
      ]
    },
    {
      "cell_type": "code",
      "execution_count": null,
      "id": "934e4286",
      "metadata": {
        "id": "934e4286"
      },
      "outputs": [],
      "source": [
        "# Display statistics of numerical columns\n",
        "df_fraud.describe()"
      ]
    },
    {
      "cell_type": "code",
      "execution_count": null,
      "id": "fd4a4176-db16-439b-a8f3-cd2860d9b7a2",
      "metadata": {
        "id": "fd4a4176-db16-439b-a8f3-cd2860d9b7a2",
        "outputId": "7dc73df6-295f-4e63-fcfe-cdb1e6c49fd2"
      },
      "outputs": [
        {
          "name": "stdout",
          "output_type": "stream",
          "text": [
            "Series([], dtype: int64)\n"
          ]
        }
      ],
      "source": [
        "# Check for missing values\n",
        "missing_values = df_fraud.isnull().sum()\n",
        "print(missing_values[missing_values > 0])\n"
      ]
    },
    {
      "cell_type": "code",
      "execution_count": null,
      "id": "6c6b4437-4a65-400f-9485-e7afccc9abab",
      "metadata": {
        "id": "6c6b4437-4a65-400f-9485-e7afccc9abab"
      },
      "outputs": [],
      "source": [
        "# Fill missing values (example for numerical columns)\n",
        "df_fraud.fillna(df_fraud.mean(), inplace=True)  # For numerical columns\n",
        "# For categorical columns, you might want to do:\n",
        "# df_fraud['category_column'].fillna(df_fraud['category_column'].mode()[0], inplace=True)\n"
      ]
    },
    {
      "cell_type": "code",
      "execution_count": null,
      "id": "5efc391e-00d4-4416-bd72-0b878e89b32c",
      "metadata": {
        "id": "5efc391e-00d4-4416-bd72-0b878e89b32c"
      },
      "outputs": [],
      "source": [
        "from scipy import stats\n",
        "\n",
        "# Remove outliers using Z-score\n",
        "z_scores = stats.zscore(df_fraud.select_dtypes(include=['float64', 'int64']))\n",
        "df_fraud = df_fraud[(z_scores < 3).all(axis=1)]  # Retain rows within 3 standard deviations\n"
      ]
    },
    {
      "cell_type": "code",
      "execution_count": null,
      "id": "dedf0b7c",
      "metadata": {
        "id": "dedf0b7c"
      },
      "outputs": [],
      "source": [
        "# Fill missing values or drop rows if needed\n",
        "df_fraud = df_fraud.dropna()\n"
      ]
    },
    {
      "cell_type": "code",
      "execution_count": null,
      "id": "b5a9eb8f",
      "metadata": {
        "id": "b5a9eb8f",
        "outputId": "2796e95e-0b12-401b-c63e-56c812073e12"
      },
      "outputs": [
        {
          "name": "stdout",
          "output_type": "stream",
          "text": [
            "(6020098, 11)\n"
          ]
        }
      ],
      "source": [
        "print(df_fraud.shape)\n"
      ]
    },
    {
      "cell_type": "code",
      "execution_count": null,
      "id": "6c738bc1-b790-45b8-b43a-a0e12ca7f0c3",
      "metadata": {
        "id": "6c738bc1-b790-45b8-b43a-a0e12ca7f0c3",
        "outputId": "11e2563d-017a-4aba-9cea-2219d2e8330b"
      },
      "outputs": [
        {
          "data": {
            "image/png": "[encoded data removed]",
            "text/plain": [
              "<Figure size 1000x800 with 2 Axes>"
            ]
          },
          "metadata": {},
          "output_type": "display_data"
        }
      ],
      "source": [
        "# Step 1: Identify and select only numeric columns\n",
        "numeric_data = df_fraud.select_dtypes(include=[np.number])\n",
        "\n",
        "# Step 2: Calculate the correlation matrix\n",
        "correlation_matrix = numeric_data.corr()\n",
        "\n",
        "# Step 3: Visualize the correlation matrix\n",
        "import seaborn as sns\n",
        "import matplotlib.pyplot as plt\n",
        "\n",
        "plt.figure(figsize=(10, 8))\n",
        "sns.heatmap(correlation_matrix, annot=True, fmt=\".2f\", cmap='coolwarm')\n",
        "plt.title('Correlation Matrix Heatmap')\n",
        "plt.show()\n"
      ]
    },
    {
      "cell_type": "code",
      "execution_count": null,
      "id": "b1efc8a3-236c-411c-aa65-d8ba82659134",
      "metadata": {
        "id": "b1efc8a3-236c-411c-aa65-d8ba82659134",
        "outputId": "afd019f7-05ab-42eb-f1bd-722882ab2c4f"
      },
      "outputs": [
        {
          "name": "stdout",
          "output_type": "stream",
          "text": [
            "Index(['step', 'type', 'amount', 'nameOrig', 'oldbalanceOrg', 'newbalanceOrig',\n",
            "       'nameDest', 'oldbalanceDest', 'newbalanceDest', 'isFraud',\n",
            "       'isFlaggedFraud'],\n",
            "      dtype='object')\n"
          ]
        }
      ],
      "source": [
        "# Step 1: Check the existing columns\n",
        "print(df_fraud.columns)\n",
        "\n"
      ]
    },
    {
      "cell_type": "code",
      "execution_count": null,
      "id": "0a66c57b-5355-4ad9-88fc-10726abffa28",
      "metadata": {
        "id": "0a66c57b-5355-4ad9-88fc-10726abffa28",
        "outputId": "88353a89-673f-43fe-e59a-132b9499a413"
      },
      "outputs": [
        {
          "name": "stdout",
          "output_type": "stream",
          "text": [
            "['step', 'type', 'amount', 'nameOrig', 'oldbalanceOrg', 'newbalanceOrig', 'nameDest', 'oldbalanceDest', 'newbalanceDest', 'isFraud', 'isFlaggedFraud']\n"
          ]
        }
      ],
      "source": [
        "# Step 1: Check the existing columns\n",
        "print(df_fraud.columns.tolist())\n",
        "\n",
        "# Step 2: Identify which columns you want to drop based on the printed output\n",
        "# For example, you decide to drop 'isFlaggedFraud'\n",
        "\n",
        "# Step 3: Drop the identified columns (make sure to use the correct names)\n",
        "df_fraud.drop(['isFlaggedFraud'], axis=1, inplace=True)\n",
        "\n"
      ]
    },
    {
      "cell_type": "code",
      "execution_count": null,
      "id": "b1d63a9e-9dbf-4577-9fa6-490135feb277",
      "metadata": {
        "id": "b1d63a9e-9dbf-4577-9fa6-490135feb277",
        "outputId": "d3a48f85-59da-4a49-c491-c4cd460e3abc"
      },
      "outputs": [
        {
          "name": "stdout",
          "output_type": "stream",
          "text": [
            "step              0\n",
            "type              0\n",
            "amount            0\n",
            "nameOrig          0\n",
            "oldbalanceOrg     0\n",
            "newbalanceOrig    0\n",
            "nameDest          0\n",
            "oldbalanceDest    0\n",
            "newbalanceDest    0\n",
            "isFraud           0\n",
            "dtype: int64\n"
          ]
        }
      ],
      "source": [
        "# Check for missing values\n",
        "print(df_fraud.isnull().sum())\n"
      ]
    },
    {
      "cell_type": "code",
      "execution_count": null,
      "id": "76011b56-e8aa-44ba-929b-4399ba1615e1",
      "metadata": {
        "id": "76011b56-e8aa-44ba-929b-4399ba1615e1"
      },
      "outputs": [],
      "source": [
        "# Example: Drop rows with missing values\n",
        "df_fraud.dropna(inplace=True)\n"
      ]
    },
    {
      "cell_type": "code",
      "execution_count": null,
      "id": "a37dfc0f-441d-4d9e-bc48-bfe574288982",
      "metadata": {
        "id": "a37dfc0f-441d-4d9e-bc48-bfe574288982"
      },
      "outputs": [],
      "source": [
        "# Example: Calculate balance change\n",
        "df_fraud['balanceChangeOrig'] = df_fraud['newbalanceOrig'] - df_fraud['oldbalanceOrg']\n",
        "df_fraud['balanceChangeDest'] = df_fraud['newbalanceDest'] - df_fraud['oldbalanceDest']\n"
      ]
    },
    {
      "cell_type": "code",
      "execution_count": null,
      "id": "c427ca55-2365-427f-b0a4-f322a75c2bf5",
      "metadata": {
        "id": "c427ca55-2365-427f-b0a4-f322a75c2bf5"
      },
      "outputs": [],
      "source": [
        "# Example: One-hot encoding for the 'type' column\n",
        "df_fraud = pd.get_dummies(df_fraud, columns=['type'], drop_first=True)\n"
      ]
    },
    {
      "cell_type": "code",
      "execution_count": null,
      "id": "a3234457-c085-4022-b4fa-1ba3aa0db771",
      "metadata": {
        "id": "a3234457-c085-4022-b4fa-1ba3aa0db771"
      },
      "outputs": [],
      "source": [
        "from sklearn.model_selection import train_test_split\n",
        "\n",
        "X = df_fraud.drop('isFraud', axis=1)  # Features\n",
        "y = df_fraud['isFraud']                # Target variable\n",
        "\n",
        "X_train, X_test, y_train, y_test = train_test_split(X, y, test_size=0.2, random_state=42)\n"
      ]
    },
    {
      "cell_type": "code",
      "execution_count": null,
      "id": "209b452d-bc88-44fc-880b-ca2f6023988f",
      "metadata": {
        "id": "209b452d-bc88-44fc-880b-ca2f6023988f",
        "outputId": "71083cfe-dd87-4d97-ac1c-400d9f4b3623"
      },
      "outputs": [
        {
          "name": "stdout",
          "output_type": "stream",
          "text": [
            "step                   int64\n",
            "amount               float64\n",
            "nameOrig              object\n",
            "oldbalanceOrg        float64\n",
            "newbalanceOrig       float64\n",
            "nameDest              object\n",
            "oldbalanceDest       float64\n",
            "newbalanceDest       float64\n",
            "balanceChangeOrig    float64\n",
            "balanceChangeDest    float64\n",
            "type_CASH_OUT           bool\n",
            "type_DEBIT              bool\n",
            "type_PAYMENT            bool\n",
            "type_TRANSFER           bool\n",
            "dtype: object\n"
          ]
        }
      ],
      "source": [
        "print(X_train.dtypes)\n"
      ]
    },
    {
      "cell_type": "code",
      "execution_count": null,
      "id": "4632a478-3028-4b83-8af0-94c1656ce26e",
      "metadata": {
        "id": "4632a478-3028-4b83-8af0-94c1656ce26e",
        "outputId": "e35a9f05-9bd6-4940-8890-b5a76f11079c"
      },
      "outputs": [
        {
          "name": "stdout",
          "output_type": "stream",
          "text": [
            "         step     amount     nameOrig  oldbalanceOrg  newbalanceOrig  \\\n",
            "5720105   398   22840.80  C1116924789        1527.00            0.00   \n",
            "3742136   279    1496.74  C1518078604       78140.00        76643.26   \n",
            "1169716   132  208068.37   C857036480         128.00            0.00   \n",
            "5087213   355    3340.78  C1975686471      150294.00       146953.22   \n",
            "1769564   162  510841.84   C474570228        4302.78            0.00   \n",
            "\n",
            "            nameDest  oldbalanceDest  newbalanceDest  balanceChangeOrig  \\\n",
            "5720105  C1942768375       250269.89       273110.68           -1527.00   \n",
            "3742136  M1213618213            0.00            0.00           -1496.74   \n",
            "1169716  C2052764632       259354.97       467423.34            -128.00   \n",
            "5087213  M1717756899            0.00            0.00           -3340.78   \n",
            "1769564  C1270412164      3221108.20      3731950.04           -4302.78   \n",
            "\n",
            "         balanceChangeDest  type_CASH_OUT  type_DEBIT  type_PAYMENT  \\\n",
            "5720105           22840.79           True       False         False   \n",
            "3742136               0.00          False       False          True   \n",
            "1169716          208068.37           True       False         False   \n",
            "5087213               0.00          False       False          True   \n",
            "1769564          510841.84          False       False         False   \n",
            "\n",
            "         type_TRANSFER  \n",
            "5720105          False  \n",
            "3742136          False  \n",
            "1169716          False  \n",
            "5087213          False  \n",
            "1769564           True  \n",
            "Index(['step', 'amount', 'nameOrig', 'oldbalanceOrg', 'newbalanceOrig',\n",
            "       'nameDest', 'oldbalanceDest', 'newbalanceDest', 'balanceChangeOrig',\n",
            "       'balanceChangeDest', 'type_CASH_OUT', 'type_DEBIT', 'type_PAYMENT',\n",
            "       'type_TRANSFER'],\n",
            "      dtype='object')\n"
          ]
        }
      ],
      "source": [
        "print(X_train.head())  # Check the first few rows\n",
        "print(X_train.columns)  # Check the column names\n"
      ]
    },
    {
      "cell_type": "code",
      "execution_count": null,
      "id": "64828cb3-a89e-4c83-aed8-31790b8ba9cc",
      "metadata": {
        "id": "64828cb3-a89e-4c83-aed8-31790b8ba9cc"
      },
      "outputs": [],
      "source": [
        "# Drop columns that you don't want in your model\n",
        "# Replace 'id' with actual column names if they differ\n",
        "columns_to_drop = ['id']  # Modify this list based on actual columns present\n",
        "X_train = X_train.drop(columns=[col for col in columns_to_drop if col in X_train.columns], axis=1)\n",
        "X_test = X_test.drop(columns=[col for col in columns_to_drop if col in X_test.columns], axis=1)\n"
      ]
    },
    {
      "cell_type": "code",
      "execution_count": null,
      "id": "eaf11d22-b0e9-44d4-9ade-9234284448db",
      "metadata": {
        "id": "eaf11d22-b0e9-44d4-9ade-9234284448db"
      },
      "outputs": [],
      "source": [
        "X_train = pd.get_dummies(X_train, drop_first=True)  # Convert categorical variables to dummy variables\n",
        "X_test = pd.get_dummies(X_test, drop_first=True)\n",
        "\n",
        "# Align the train and test sets\n",
        "X_train, X_test = X_train.align(X_test, join='left', axis=1, fill_value=0)\n"
      ]
    },
    {
      "cell_type": "code",
      "execution_count": null,
      "id": "b3632125-ebbd-450b-950a-760a8c608e06",
      "metadata": {
        "id": "b3632125-ebbd-450b-950a-760a8c608e06",
        "outputId": "d6621cd3-31ed-4d8a-ed5a-1dcbf63acb20"
      },
      "outputs": [
        {
          "name": "stdout",
          "output_type": "stream",
          "text": [
            "[0]\n"
          ]
        }
      ],
      "source": [
        "print(y_train.unique())\n"
      ]
    },
    {
      "cell_type": "code",
      "execution_count": null,
      "id": "bf36344c-5e38-44a6-aeae-d822d2533a2b",
      "metadata": {
        "id": "bf36344c-5e38-44a6-aeae-d822d2533a2b"
      },
      "outputs": [],
      "source": [
        "from sklearn.preprocessing import LabelEncoder\n",
        "\n",
        "# Initialize the LabelEncoder\n",
        "le = LabelEncoder()\n",
        "\n",
        "# Fit and transform the target variable\n",
        "y_train_encoded = le.fit_transform(y_train)\n",
        "y_test_encoded = le.transform(y_test)  # Make sure to use transform, not fit_transform on test data\n"
      ]
    },
    {
      "cell_type": "code",
      "execution_count": null,
      "id": "ecfc80ff-0224-46dc-b866-0e52114949b2",
      "metadata": {
        "id": "ecfc80ff-0224-46dc-b866-0e52114949b2"
      },
      "outputs": [],
      "source": [
        "from sklearn.preprocessing import LabelEncoder\n",
        "\n",
        "# Initialize the label encoder\n",
        "label_encoder = LabelEncoder()\n",
        "\n",
        "# Fit and transform the target variable\n",
        "y_train_encoded = label_encoder.fit_transform(y_train)\n"
      ]
    },
    {
      "cell_type": "code",
      "execution_count": null,
      "id": "3a78f112-e426-4a09-ae76-12c27893fa9c",
      "metadata": {
        "id": "3a78f112-e426-4a09-ae76-12c27893fa9c",
        "outputId": "36e909c3-9819-406a-b139-0238463b2344"
      },
      "outputs": [
        {
          "name": "stdout",
          "output_type": "stream",
          "text": [
            "{0}\n"
          ]
        }
      ],
      "source": [
        "print(set(y_train_encoded))\n"
      ]
    },
    {
      "cell_type": "code",
      "execution_count": null,
      "id": "25f682da-8cbb-4375-97dd-f270eb045fce",
      "metadata": {
        "id": "25f682da-8cbb-4375-97dd-f270eb045fce",
        "outputId": "f27549f1-e81c-44d8-d4b8-6ac9bb830de3"
      },
      "outputs": [
        {
          "name": "stdout",
          "output_type": "stream",
          "text": [
            "Collecting category_encoders\n",
            "  Downloading category_encoders-2.6.4-py2.py3-none-any.whl (82 kB)\n",
            "                                              0.0/82.0 kB ? eta -:--:--\n",
            "     ----                                     10.2/82.0 kB ? eta -:--:--\n",
            "     --------------                         30.7/82.0 kB 330.3 kB/s eta 0:00:01\n",
            "     ------------------                     41.0/82.0 kB 281.8 kB/s eta 0:00:01\n",
            "     -------------------------------------- 82.0/82.0 kB 460.0 kB/s eta 0:00:00\n",
            "Requirement already satisfied: numpy>=1.14.0 in c:\\users\\varun\\anaconda3\\lib\\site-packages (from category_encoders) (1.26.4)\n",
            "Requirement already satisfied: scikit-learn>=0.20.0 in c:\\users\\varun\\anaconda3\\lib\\site-packages (from category_encoders) (1.2.2)\n",
            "Requirement already satisfied: scipy>=1.0.0 in c:\\users\\varun\\anaconda3\\lib\\site-packages (from category_encoders) (1.13.1)\n",
            "Requirement already satisfied: statsmodels>=0.9.0 in c:\\users\\varun\\anaconda3\\lib\\site-packages (from category_encoders) (0.13.5)\n",
            "Requirement already satisfied: pandas>=1.0.5 in c:\\users\\varun\\anaconda3\\lib\\site-packages (from category_encoders) (2.0.3)\n",
            "Requirement already satisfied: patsy>=0.5.1 in c:\\users\\varun\\anaconda3\\lib\\site-packages (from category_encoders) (0.5.6)\n",
            "Requirement already satisfied: python-dateutil>=2.8.2 in c:\\users\\varun\\anaconda3\\lib\\site-packages (from pandas>=1.0.5->category_encoders) (2.9.0.post0)\n",
            "Requirement already satisfied: pytz>=2020.1 in c:\\users\\varun\\anaconda3\\lib\\site-packages (from pandas>=1.0.5->category_encoders) (2024.1)\n",
            "Requirement already satisfied: tzdata>=2022.1 in c:\\users\\varun\\anaconda3\\lib\\site-packages (from pandas>=1.0.5->category_encoders) (2023.3)\n",
            "Requirement already satisfied: six in c:\\users\\varun\\anaconda3\\lib\\site-packages (from patsy>=0.5.1->category_encoders) (1.16.0)\n",
            "Requirement already satisfied: joblib>=1.1.1 in c:\\users\\varun\\anaconda3\\lib\\site-packages (from scikit-learn>=0.20.0->category_encoders) (1.4.2)\n",
            "Requirement already satisfied: threadpoolctl>=2.0.0 in c:\\users\\varun\\anaconda3\\lib\\site-packages (from scikit-learn>=0.20.0->category_encoders) (3.5.0)\n",
            "Requirement already satisfied: packaging>=21.3 in c:\\users\\varun\\anaconda3\\lib\\site-packages (from statsmodels>=0.9.0->category_encoders) (24.1)\n",
            "Installing collected packages: category_encoders\n",
            "Successfully installed category_encoders-2.6.4\n",
            "Note: you may need to restart the kernel to use updated packages.\n"
          ]
        }
      ],
      "source": [
        "pip install category_encoders\n"
      ]
    },
    {
      "cell_type": "code",
      "execution_count": null,
      "id": "595f1e35-a6ad-4c7e-9747-ddc89d48ebd3",
      "metadata": {
        "id": "595f1e35-a6ad-4c7e-9747-ddc89d48ebd3"
      },
      "outputs": [],
      "source": [
        "import pandas as pd\n",
        "import category_encoders as ce  # Ensure category encoders are imported\n",
        "from sklearn.model_selection import train_test_split\n",
        "from sklearn.ensemble import RandomForestClassifier\n",
        "from sklearn.metrics import classification_report, confusion_matrix\n",
        "from imblearn.over_sampling import SMOTE\n",
        "\n",
        "\n",
        "\n",
        "# Define features and target\n",
        "target_column_name = 'isFraud'  # Your target column name\n",
        "X = df_fraud.drop(target_column_name, axis=1)\n",
        "y = df_fraud[target_column_name]\n",
        "\n",
        "# Split the data\n",
        "X_train, X_test, y_train, y_test = train_test_split(X, y, test_size=0.2, random_state=42)\n",
        "\n",
        "# Define a threshold for combining rare categories\n",
        "threshold = 1000  # Adjust based on your needs\n",
        "for col in ['type', 'nameDest']:  # Use the correct categorical columns here\n",
        "    counts = X_train[col].value_counts()\n",
        "    X_train[col] = X_train[col].where(X_train[col].isin(counts[counts > threshold].index), 'Other')\n",
        "\n",
        "# Encode categorical features with Target Encoding\n",
        "target_encoder = ce.TargetEncoder(cols=['type', 'nameDest'])  # Update with your categorical columns\n",
        "X_train_encoded = target_encoder.fit_transform(X_train, y_train)\n",
        "X_test_encoded = target_encoder.transform(X_test)\n",
        "\n",
        "# Check the data types of the encoded features\n",
        "print(\"Data types of features:\")\n",
        "print(X_train_encoded.dtypes)\n",
        "\n",
        "# Ensure all features are numeric before applying SMOTE\n",
        "X_train_encoded = X_train_encoded.apply(pd.to_numeric, errors='coerce')\n",
        "X_test_encoded = X_test_encoded.apply(pd.to_numeric, errors='coerce')\n",
        "\n",
        "# Handle NaN values created during conversion (if any)\n",
        "X_train_encoded.fillna(0, inplace=True)\n",
        "X_test_encoded.fillna(0, inplace=True)\n",
        "\n",
        "# Apply SMOTE to balance the dataset\n",
        "smote = SMOTE(random_state=42)\n",
        "X_train_balanced, y_train_balanced = smote.fit_resample(X_train_encoded, y_train)\n",
        "\n",
        "# Fit the Random Forest model\n",
        "model = RandomForestClassifier(random_state=42)\n",
        "model.fit(X_train_balanced, y_train_balanced)\n",
        "\n",
        "# Predict on the test set\n",
        "y_pred = model.predict(X_test_encoded)\n",
        "\n",
        "# Evaluate the model\n",
        "print(confusion_matrix(y_test, y_pred))\n",
        "print(classification_report(y_test, y_pred))\n",
        "\n"
      ]
    },
    {
      "cell_type": "code",
      "execution_count": null,
      "id": "40a5aa86-47a0-4a57-8c56-bacf7a350a2f",
      "metadata": {
        "id": "40a5aa86-47a0-4a57-8c56-bacf7a350a2f"
      },
      "outputs": [],
      "source": [
        "#hyperparmaeter tuning\n",
        "from sklearn.model_selection import GridSearchCV\n",
        "\n",
        "param_grid = {\n",
        "    'n_estimators': [50, 100, 200],\n",
        "    'max_depth': [None, 10, 20, 30],\n",
        "    'min_samples_split': [2, 5, 10],\n",
        "}\n",
        "\n",
        "grid_search = GridSearchCV(estimator=model, param_grid=param_grid, cv=3)\n",
        "grid_search.fit(X_train_encoded, y_train_encoded)\n",
        "print(\"Best parameters:\", grid_search.best_params_)\n"
      ]
    },
    {
      "cell_type": "code",
      "execution_count": null,
      "id": "e6c1f9c9-5bf3-4f28-b379-a5a212b64cf9",
      "metadata": {
        "id": "e6c1f9c9-5bf3-4f28-b379-a5a212b64cf9"
      },
      "outputs": [],
      "source": [
        "pip install imbalanced-learn\n"
      ]
    },
    {
      "cell_type": "code",
      "execution_count": null,
      "id": "1399b249-9576-4b8c-83d0-3126dfd0cf7b",
      "metadata": {
        "id": "1399b249-9576-4b8c-83d0-3126dfd0cf7b"
      },
      "outputs": [],
      "source": [
        "import matplotlib.pyplot as plt\n",
        "import numpy as np\n",
        "\n",
        "importances = model.feature_importances_\n",
        "indices = np.argsort(importances)[::-1]\n",
        "\n",
        "plt.figure()\n",
        "plt.title(\"Feature importances\")\n",
        "plt.bar(range(X_train_encoded.shape[1]), importances[indices], align=\"center\")\n",
        "plt.xticks(range(X_train_encoded.shape[1]), X_train_encoded.columns[indices], rotation=90)\n",
        "plt.xlim([-1, X_train_encoded.shape[1]])\n",
        "plt.show()\n"
      ]
    },
    {
      "cell_type": "code",
      "execution_count": null,
      "id": "b14165da-5465-49be-baf4-3d6e7ba4e21e",
      "metadata": {
        "id": "b14165da-5465-49be-baf4-3d6e7ba4e21e"
      },
      "outputs": [],
      "source": [
        "from sklearn.model_selection import cross_val_score\n",
        "\n",
        "cv_scores = cross_val_score(model, X_train_encoded, y_train_encoded, cv=5)\n",
        "print(\"Cross-validation scores:\", cv_scores)\n",
        "print(\"Average CV score:\", np.mean(cv_scores))\n"
      ]
    },
    {
      "cell_type": "code",
      "execution_count": null,
      "id": "6a068c60-2dc3-4498-a57f-4a6fcd0ab196",
      "metadata": {
        "id": "6a068c60-2dc3-4498-a57f-4a6fcd0ab196"
      },
      "outputs": [],
      "source": [
        "y_prob = model.predict_proba(X_test_encoded)[:, 1]\n",
        "from sklearn.metrics import precision_recall_curve\n",
        "\n",
        "precision, recall, thresholds = precision_recall_curve(y_test, y_prob)\n",
        "plt.plot(recall, precision)\n",
        "plt.xlabel(\"Recall\")\n",
        "plt.ylabel(\"Precision\")\n",
        "plt.title(\"Precision-Recall Curve\")\n",
        "plt.show()\n"
      ]
    },
    {
      "cell_type": "code",
      "execution_count": null,
      "id": "a96646fc-e571-4f8c-9801-60744af36e56",
      "metadata": {
        "id": "a96646fc-e571-4f8c-9801-60744af36e56"
      },
      "outputs": [],
      "source": [
        "from imblearn.over_sampling import SMOTE\n",
        "\n",
        "smote = SMOTE()\n",
        "X_train_balanced, y_train_balanced = smote.fit_resample(X_train_encoded, y_train_encoded)\n"
      ]
    },
    {
      "cell_type": "code",
      "execution_count": null,
      "id": "6ffb2fa3",
      "metadata": {
        "id": "6ffb2fa3"
      },
      "outputs": [],
      "source": [
        "#dataset is too large previewing the first 1,000 rows to ensure everything works/\n",
        "df_fraud_sample = df_fraud.head(1000)\n",
        "categorical_cols = df_fraud_sample.select_dtypes(include=['object', 'category']).columns.tolist()\n"
      ]
    },
    {
      "cell_type": "code",
      "execution_count": null,
      "id": "55a83e99",
      "metadata": {
        "id": "55a83e99"
      },
      "outputs": [],
      "source": [
        "chunks = pd.read_csv('Fraud.csv', chunksize=100000)  # Smaller chunks\n"
      ]
    },
    {
      "cell_type": "code",
      "execution_count": null,
      "id": "1651d8bd",
      "metadata": {
        "id": "1651d8bd"
      },
      "outputs": [],
      "source": [
        "df_fraud.head()"
      ]
    },
    {
      "cell_type": "code",
      "execution_count": null,
      "id": "62470854",
      "metadata": {
        "id": "62470854"
      },
      "outputs": [],
      "source": [
        "for chunk in chunks:\n",
        "    # Process each chunk separately\n",
        "    categorical_cols = chunk.select_dtypes(include=['object', 'category']).columns.tolist()\n",
        "    # Further operations on each chunk\n"
      ]
    },
    {
      "cell_type": "code",
      "execution_count": null,
      "id": "36707624",
      "metadata": {
        "id": "36707624"
      },
      "outputs": [],
      "source": [
        "# Load the first chunk and detect categorical columns\n",
        "first_chunk = next(chunks)\n"
      ]
    },
    {
      "cell_type": "code",
      "execution_count": null,
      "id": "9655332c",
      "metadata": {
        "id": "9655332c"
      },
      "outputs": [],
      "source": [
        "df_fraud_sparse = pd.get_dummies(df_fraud[categorical_cols], drop_first=True, sparse=True)\n"
      ]
    },
    {
      "cell_type": "code",
      "execution_count": null,
      "id": "517dcc6d",
      "metadata": {
        "id": "517dcc6d"
      },
      "outputs": [],
      "source": [
        "filtered_categorical_cols = [col for col in categorical_cols if df_fraud[col].nunique() < 50]\n",
        "df_fraud_encoded = pd.get_dummies(df_fraud[filtered_categorical_cols], drop_first=True)\n"
      ]
    },
    {
      "cell_type": "code",
      "execution_count": null,
      "id": "8d9670f0",
      "metadata": {
        "id": "8d9670f0"
      },
      "outputs": [],
      "source": [
        "# Limit the number of columns processed\n",
        "categorical_cols = df_fraud.select_dtypes(include=['object']).columns.tolist()\n",
        "\n",
        "# If too many categories exist in some columns, consider filtering\n",
        "df_fraud = pd.get_dummies(df_fraud[categorical_cols], drop_first=True)\n",
        "\n",
        "# If necessary, sample the DataFrame for testing\n",
        "# df_fraud_sample = df_fraud.sample(n=1000)  # If df_fraud is too large\n",
        "\n",
        "# Proceed with your analysis or model training\n"
      ]
    },
    {
      "cell_type": "code",
      "execution_count": null,
      "id": "8bac4dc6",
      "metadata": {
        "id": "8bac4dc6"
      },
      "outputs": [],
      "source": [
        "# Convert categorical features to numerical\n",
        "df_fraud = pd.get_dummies(df_fraud, drop_first=True)\n"
      ]
    },
    {
      "cell_type": "code",
      "execution_count": null,
      "id": "db104709",
      "metadata": {
        "id": "db104709"
      },
      "outputs": [],
      "source": [
        "# Define the feature matrix X and the target variable y\n",
        "scaler = StandardScaler()\n",
        "\n",
        "# Assuming 'isFraud' is the target column\n",
        "X = df_fraud.drop(['isFraud'], axis=1)\n",
        "y = df_fraud['isFraud']\n",
        "\n",
        "# Apply scaling\n",
        "X_scaled = scaler.fit_transform(X)\n"
      ]
    },
    {
      "cell_type": "code",
      "execution_count": null,
      "id": "286847af",
      "metadata": {
        "id": "286847af"
      },
      "outputs": [],
      "source": [
        "# Split the data into training and testing sets\n",
        "X_train, X_test, y_train, y_test = train_test_split(X_scaled, y, test_size=0.3, random_state=42)\n"
      ]
    },
    {
      "cell_type": "code",
      "execution_count": null,
      "id": "1e109999",
      "metadata": {
        "id": "1e109999"
      },
      "outputs": [],
      "source": [
        "# Initialize Random Forest Classifier\n",
        "rf = RandomForestClassifier(n_estimators=100, random_state=42)\n",
        "\n",
        "# Train the model\n",
        "rf.fit(X_train, y_train)\n",
        "\n",
        "# Make predictions\n",
        "y_pred = rf.predict(X_test)\n"
      ]
    },
    {
      "cell_type": "code",
      "execution_count": null,
      "id": "a747149e",
      "metadata": {
        "id": "a747149e"
      },
      "outputs": [],
      "source": [
        "# Accuracy Score\n",
        "accuracy = accuracy_score(y_test, y_pred)\n",
        "print(f'Accuracy: {accuracy:.4f}')\n",
        "\n",
        "# Confusion Matrix\n",
        "cm = confusion_matrix(y_test, y_pred)\n",
        "sns.heatmap(cm, annot=True, fmt='g')\n",
        "plt.show()\n",
        "\n",
        "# Classification Report\n",
        "print(classification_report(y_test, y_pred))\n"
      ]
    },
    {
      "cell_type": "code",
      "execution_count": null,
      "id": "3836cc40",
      "metadata": {
        "id": "3836cc40"
      },
      "outputs": [],
      "source": [
        "from sklearn.model_selection import GridSearchCV\n",
        "\n",
        "# Define parameter grid\n",
        "param_grid = {\n",
        "    'n_estimators': [50, 100, 200],\n",
        "    'max_depth': [10, 20, 30]\n",
        "}\n",
        "\n",
        "# Perform Grid Search\n",
        "grid_search = GridSearchCV(estimator=rf, param_grid=param_grid, cv=3)\n",
        "grid_search.fit(X_train, y_train)\n",
        "\n",
        "# Get best parameters\n",
        "best_params = grid_search.best_params_\n",
        "print(f\"Best parameters: {best_params}\")\n",
        "\n",
        "# Re-evaluate model with best parameters\n",
        "y_pred_tuned = grid_search.best_estimator_.predict(X_test)\n",
        "print(classification_report(y_test, y_pred_tuned))\n"
      ]
    },
    {
      "cell_type": "code",
      "execution_count": null,
      "id": "744fec04",
      "metadata": {
        "id": "744fec04"
      },
      "outputs": [],
      "source": [
        "# Feature Importance\n",
        "importances = pd.Series(rf.feature_importances_, index=X.columns)\n",
        "importances.nlargest(10).plot(kind='barh')\n",
        "plt.show()\n"
      ]
    }
  ],
  "metadata": {
    "kernelspec": {
      "display_name": "Python 3 (ipykernel)",
      "language": "python",
      "name": "python3"
    },
    "language_info": {
      "codemirror_mode": {
        "name": "ipython",
        "version": 3
      },
      "file_extension": ".py",
      "mimetype": "text/x-python",
      "name": "python",
      "nbconvert_exporter": "python",
      "pygments_lexer": "ipython3",
      "version": "3.11.10"
    },
    "colab": {
      "provenance": [],
      "include_colab_link": true
    }
  },
  "nbformat": 4,
  "nbformat_minor": 5
}